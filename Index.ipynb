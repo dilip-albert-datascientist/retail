{
 "cells": [
  {
   "cell_type": "code",
   "execution_count": 1,
   "metadata": {},
   "outputs": [],
   "source": [
    "from IPython.display import Image\n",
    "from IPython.core.display import HTML "
   ]
  },
  {
   "cell_type": "code",
   "execution_count": 2,
   "metadata": {},
   "outputs": [
    {
     "data": {
      "text/html": [
       "<img src=\"https://miro.medium.com/max/5708/1*RTT38FRJI3tKKigaRH_F0Q.jpeg\"/>"
      ],
      "text/plain": [
       "<IPython.core.display.Image object>"
      ]
     },
     "execution_count": 2,
     "metadata": {},
     "output_type": "execute_result"
    }
   ],
   "source": [
    "Image(url=\"https://miro.medium.com/max/5708/1*RTT38FRJI3tKKigaRH_F0Q.jpeg\")"
   ]
  },
  {
   "cell_type": "markdown",
   "metadata": {},
   "source": [
    "## Stage 1 — Awareness & Inspiration\n",
    "\n",
    "### Proactively Engage & Build New Audiences\n",
    "#### Look-A-Like Audience Modeling — Develop a model that discovers, engages, and builds new target segments based on a significant overlap of characteristics and patterns by cross referencing existing customers.\n",
    "\n",
    "### Audience Understanding\n",
    "#### Social Insights And Listening — Manage social interactions around the globe by automatically analyzing and understanding audience sentiment, tone, nuances, and cultural attributes to inform business strategy.\n",
    "\n",
    "### Curate Love at First Sight\n",
    "#### Intelligent Recommendations — Increase average order values by converting more anonymous visitors by recommending relevant products; tailor content and offers across channels based on visitor preferences.\n",
    "\n",
    "### Analyze Response to Marketing/Campaigns\n",
    "#### Response Modeling — Maximize overall performance of marketing campaigns and promotional events by finding a set of promising segments that are most likely to convert based on promotional information.\n",
    "\n",
    "### Audience Intelligence Dashboard\n",
    "#### Visualize Audience Relationships — Build an audience dashboard that allows you to visualize and monitor customer needs based on trends and behavioral patterns — driving confidence in decision-making during execution.\n",
    "\n",
    "### Tailored Audience Messaging\n",
    "#### Content Analysis And Management — Optimize content based on formats that resonate the most with audiences. Personalize messaging by combining content analysis during campaigns with developed inferences."
   ]
  },
  {
   "cell_type": "raw",
   "metadata": {},
   "source": [
    "Stage 2 — Consideration & Evaluation\n",
    "\n",
    "Personalized Recommendations\n",
    "\n",
    "Recommendation Systems — Build intelligent models to anticipate, predict, prescribe, rank, and refine tailored recommendations to users based on user tastes and preferences.\n",
    "\n",
    "Identify Key Customer Segments\n",
    "Customer Segmentation Modeling — Understand customers at a finer level by modeling key customer segments based on their digital footprints to engage with them through more meaningful experiences.\n",
    "\n",
    "Infuse Product Intelligence\n",
    "Product Attribute Graph — Rank products based on how they perform and resonate across key customer segments and use that ranking criteria to showcase the right products to the appropriate customers.\n",
    "\n",
    "Stock Products and Maximize Returns\n",
    "Category Management — Calculate the appropriate balance of products across varying physical shelf/window/aisle constraints in a way to maximize gross margins and substitute the right products.\n",
    "\n",
    "Search Ranking\n",
    "Recommendation Systems — Build models that rank product and multi-user taste preferences across a range of critical parameters in order to return accurate results by considering context and need.\n",
    "\n",
    "Anticipate Customer Needs\n",
    "Needs-Based State Machines — Build predictive models that consider the different states a user may belong to by understanding their needs within each state and possible triggers that generate new needs.\n",
    "\n",
    "Pricing Strategy in line with Business Goals\n",
    "Pricing And Profit Optimization — Model a pricing strategy by keeping in mind overall business goals and quarterly targets in mind. Assign individual price to each customer in order to maximize overall revenue.\n",
    "\n",
    "Anticipate Future Demand\n",
    "Demand Modeling — Recognize key trends that are both internal (customer/business related) and external (market/ industry related) that may influence the increase/ decrease of demand for key products.\n",
    "\n",
    "Elevated Search Experience\n",
    "Predictive Search — Enable data-driven search recommendations that allow the user to perform rich search queries that hand hold them to the right products in the most customized way possible.\n",
    "\n",
    "Automated Catalog Curation\n",
    "Catalog Ingestion — Automate SKU creation, curation, and management by recognizing patterns from available merchandising data, and use conflict resolution as a means to increase confidence in results.\n",
    "\n",
    "Powerful Filtering Criteria\n",
    "Collaborative Filtering — Allow customers to use meaningful and relevant filtering criteria to arrive at products they’re looking for — learn from patterns and behaviors to inform better product placement."
   ]
  },
  {
   "cell_type": "raw",
   "metadata": {},
   "source": [
    "Stage 3: Shopping Cart\n",
    "\n",
    "Facilitate Unanticipated Struggle\n",
    "Struggle Detection — Automatically detect struggle with little or no human intervention by analyzing critical user flows and tasks and learn through observations to increase user experience where required.\n",
    "\n",
    "Improved Cross-sell and Up-sell\n",
    "Merchandising Analytics — Recognize patterns in customer behavior across buying patterns to improve product associations and recommendations in the shopping cart.\n",
    "\n",
    "Market Basket Understanding\n",
    "Basket Analysis — Analyze how customers make purchases and the behaviors that inform the products they buy to create relevant product associations enabling a smarter purchase.\n",
    "\n",
    "Secure Transaction Platforms\n",
    "Fraud Detection — Take advantage of cutting edge security solutions in fraud detection that recognize behavioral signals of fraudulent transactions and employ counter measures to void them.\n",
    "\n",
    "Optimal Pricing Detections\n",
    "Dynamic Pricing / Price Discrimination — Make optimal pricing decisions, keeping customer and business value in mind, by setting optimal prices to increase revenues and engaging with price-sensitive customers.\n",
    "\n",
    "Identify Key Sales Drivers\n",
    "Sales Value Decomposition — Identify how much proportion of sales is being driven by which driver factors that pertain to internal and external triggers. Use them to test hypothesis and validate through experiments.\n",
    "\n",
    "Predicting Customer Behavior\n",
    "Propensity Modeling — Conduct experiments and build models to predict the key shopping behaviors that determine likelihood of conversion versus likelihood of abandonment."
   ]
  },
  {
   "cell_type": "raw",
   "metadata": {},
   "source": [
    "Stage 4 — First Purchase\n",
    "\n",
    "Meaningful Customer Relationships\n",
    "Response Modeling — Understand how customers respond to using your product by employing a mindset of collecting\n",
    "feedback and analyzing the responses to inform the design and experience of products."
   ]
  },
  {
   "cell_type": "raw",
   "metadata": {},
   "source": [
    "Stage 5 — New Customer\n",
    "\n",
    "Rich Customer Profiles\n",
    "Profile Insights — Build rich and informative customer profiles that allow a deeper understanding of customers, segmentation, preferences, and needs that inform product strategy and roadmaps.\n",
    "\n",
    "Multi-taste Preference Understanding\n",
    "Preference Modeling — Model multi-taste customer preferences based on collected data to understand what customers are looking for in products and services that can be used to inform strategic thinking."
   ]
  },
  {
   "cell_type": "raw",
   "metadata": {},
   "source": [
    "Stage 6 — Second Purchase\n",
    "\n",
    "Likelihood of No-Return\n",
    "Customer Churn Analysis — Build models to understand why customers might not return to the brand, and fill the gaps across the user journey in order to better engage with customers.\n",
    "\n",
    "Cross-sell & Up-sell Analysis\n",
    "Propensity To Category Expansion — Increase likelihood of selling related or complementary products to customers by making data-driven recommendations that are highly personalized.\n",
    "\n",
    "Incentivizing Next Purchase\n",
    "Discount Modeling — Build unique models of discounting and incentivizing customer segments to increase the likelihood of their next purchase by understanding motivations and triggers.\n",
    "\n",
    "Reach-out Programs\n",
    "Call Back Analysis — Determine accurate, contextual, and highly personalized strategies to conduct reach-out programs with actionable triggers that can be measured."
   ]
  },
  {
   "cell_type": "raw",
   "metadata": {},
   "source": [
    "Stage 7 — One and Done\n",
    "\n",
    "Estimate Customer Lifetime Value\n",
    "Customer Lifetime Value Modeling — Combine unique targeted models in varying granularity across different categories to determine the measurement in dollars associated with customers to identify their lifetime value.\n",
    "\n",
    "Recognize Life-changing Events\n",
    "Propensity To Change Shopping Habits — Identify likelihood of life-changing events (e.g., relocation, wedding, etc.) triggering new patterns of customer behavior and how that might open up new categories to purchase from.\n",
    "\n",
    "Increase Customer Spend\n",
    "Share Of Wallet Modeling — Increase percentage of customer spending within categories that resonate with them by understanding the context in which they engage with the brand and make purchase decisions.\n",
    "\n",
    "Identify Customers Likely to Disengage\n",
    "Risk Modeling — Build a process to identify customers early-on in the funnel who are most likely to disengage with the brand and most likely to not return to make another purchase."
   ]
  },
  {
   "cell_type": "raw",
   "metadata": {},
   "source": [
    "Stage 8 — Repeat Customer\n",
    "\n",
    "Serving Loyal Customers Differently\n",
    "Uplift Modeling — Understand key patterns of repeat customers and how their behaviors may be different to regular shoppers in order to serve them differently, enabling a substantial sales boost."
   ]
  },
  {
   "cell_type": "raw",
   "metadata": {},
   "source": [
    "Stage 9 — Loyal Customer\n",
    "\n",
    "Recognizing and Retaining Loyal Customers\n",
    "Advocate Definition — Building an acute understanding of what it means to be a loyal customer of the brand and what are the set of parameters that a customer needs to fulfill in order to sustain it.\n",
    "\n",
    "Personalized Loyalty Programs\n",
    "Gift Card/Loyalty Card Analysis — Go from Personas to People with a highly personalized loyalty program that keeps individual preferences in mind and engages in a contextualized relationship."
   ]
  },
  {
   "cell_type": "raw",
   "metadata": {},
   "source": [
    "Stage 10 — Lost Customer\n",
    "\n",
    "Retention Program\n",
    "Churn Modeling — Quickly identify customers with high propensity to churn, and target them with retention campaigns that may bring them back through a discount, gift, or other monetary benefit."
   ]
  },
  {
   "cell_type": "code",
   "execution_count": null,
   "metadata": {},
   "outputs": [],
   "source": []
  },
  {
   "cell_type": "code",
   "execution_count": null,
   "metadata": {},
   "outputs": [],
   "source": []
  }
 ],
 "metadata": {
  "environment": {
   "name": "common-cpu.m61",
   "type": "gcloud",
   "uri": "gcr.io/deeplearning-platform-release/base-cpu:m61"
  },
  "kernelspec": {
   "display_name": "Python 3",
   "language": "python",
   "name": "python3"
  },
  "language_info": {
   "codemirror_mode": {
    "name": "ipython",
    "version": 3
   },
   "file_extension": ".py",
   "mimetype": "text/x-python",
   "name": "python",
   "nbconvert_exporter": "python",
   "pygments_lexer": "ipython3",
   "version": "3.7.9"
  }
 },
 "nbformat": 4,
 "nbformat_minor": 4
}
